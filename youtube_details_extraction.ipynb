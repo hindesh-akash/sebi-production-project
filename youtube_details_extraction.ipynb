{
  "nbformat": 4,
  "nbformat_minor": 0,
  "metadata": {
    "colab": {
      "provenance": []
    },
    "kernelspec": {
      "name": "python3",
      "display_name": "Python 3"
    },
    "language_info": {
      "name": "python"
    }
  },
  "cells": [
    {
      "cell_type": "code",
      "source": [
        "from IPython.display import clear_output\n",
        "\n",
        "!pip install pytube\n",
        "!pip install openai\n",
        "!pip install google-api-python-client\n",
        "\n",
        "\n",
        "clear_output(wait=False)"
      ],
      "metadata": {
        "id": "QUhE3KfvJ1Wt"
      },
      "execution_count": null,
      "outputs": []
    },
    {
      "cell_type": "code",
      "source": [
        "import googleapiclient.discovery\n",
        "import googleapiclient.errors\n",
        "import openai\n",
        "from pytube import YouTube\n",
        "import requests\n",
        "from PIL import Image\n",
        "import os\n",
        "import time\n",
        "\n",
        "openai.api_key = \"----- ENTER YOUR OPENAI API KEY HERE -----\"\n",
        "\n",
        "api_service_name = \"youtube\"\n",
        "api_version = \"v3\"\n",
        "\n",
        "DEVELOPER_KEY = \"----- ENTER YOUR YouTube Data API v3 API KEY HERE -----\" #The developer key could be found by enabling YouTube Data API v3 services in Google Cloud\n",
        "\n",
        "youtube = googleapiclient.discovery.build(\n",
        "    api_service_name, api_version, developerKey=DEVELOPER_KEY)"
      ],
      "metadata": {
        "id": "WBfoCWVa9iBd"
      },
      "execution_count": 2,
      "outputs": []
    },
    {
      "cell_type": "code",
      "source": [
        "def transcribe_audio(audio_file):\n",
        "\n",
        "    \"\"\"\n",
        "    Function to transcribe an audio file\n",
        "\n",
        "            Parameters:\n",
        "                    audio_file (bytes): The audio file in byte like format\n",
        "            Returns:\n",
        "                    transcribed_text (string): The transcription of the audio file in text format\n",
        "    \"\"\"\n",
        "    transcript = openai.Audio.transcribe(\"whisper-1\", audio_file)\n",
        "    transcribed_text = transcript['text']\n",
        "    return transcribed_text"
      ],
      "metadata": {
        "id": "h39Nobay6zVj"
      },
      "execution_count": 3,
      "outputs": []
    },
    {
      "cell_type": "code",
      "source": [
        "# def get_text_from_image(image_file):\n",
        "#     #Convert image to text\n",
        "#     # img = Image.open(image_file)\n",
        "#     text = pytesseract.image_to_string(img)\n",
        "\n",
        "#     return text"
      ],
      "metadata": {
        "id": "xw75ACG6D6os"
      },
      "execution_count": 4,
      "outputs": []
    },
    {
      "cell_type": "code",
      "source": [
        "def get_thumbnail(video_link):\n",
        "  \"\"\"\n",
        "    Function to get thumbnail of a YouTube video\n",
        "\n",
        "            Parameters:\n",
        "                    video_link (string): Hyperlink for a YouTube video.\n",
        "            Returns:\n",
        "                    image: The thumbnail image of the video.\n",
        "  \"\"\"\n",
        "  utube = YouTube(video_link)\n",
        "  thumbnail_url = utube.thumbnail_url\n",
        "  thumbnail_response = requests.get(thumbnail_url)\n",
        "\n",
        "  with open('i.png','wb') as f:\n",
        "    f.write(thumbnail_response.content)\n",
        "\n",
        "  image = Image.open('i.png')\n",
        "  os.remove('i.png')\n",
        "\n",
        "  return image"
      ],
      "metadata": {
        "id": "buCzjZ6sDj8c"
      },
      "execution_count": 5,
      "outputs": []
    },
    {
      "cell_type": "code",
      "source": [
        "def get_details(video_link):\n",
        "\n",
        "    \"\"\"\n",
        "    Function to return details about a YouTube video given its hyperlink\n",
        "\n",
        "          Parameters:\n",
        "                  video_link (string): Hyperlink for a YouTube video.\n",
        "                                       Example- https://www.youtube.com/shorts/VIDEO_ID or https://www.youtube.com/watch?v=VIDEO_ID\n",
        "\n",
        "          Returns:\n",
        "                  video_id (string): Unique identifier for the video. Example- YDc_wyAjHME\n",
        "                  video_title (string): Title of the YouTube video\n",
        "                  video_description (string): Description of the video\n",
        "                  channel_name (string): Name of the YouTube channel\n",
        "                  video_num_views (string): Number of views on the video\n",
        "                  video_num_likes (string): Number of likes on the video\n",
        "                  video_num_comments (string): Number of comments on the video\n",
        "                  channel_num_subscribers (string): Number of subsribers for the YouTube channel\n",
        "                  transcript (string): The transcript of the video\n",
        "\n",
        "\n",
        "\n",
        "    \"\"\"\n",
        "\n",
        "    if video_link.find(\"shorts\"):\n",
        "      video_id = video_link.split(\"/\")[-1]\n",
        "    else:\n",
        "      video_id = video_link.split(\"=\")[1]\n",
        "\n",
        "\n",
        "    #---------------------------------------\n",
        "    request = youtube.videos().list(\n",
        "    part=[\"statistics\",\"snippet\"],\n",
        "    id=video_id\n",
        "    )\n",
        "    response = request.execute()\n",
        "\n",
        "    video_title = response['items'][0]['snippet']['title']\n",
        "    video_description = response['items'][0]['snippet']['description']\n",
        "    channel_id = response['items'][0]['snippet']['channelId']\n",
        "    video_num_views = response['items'][0]['statistics']['viewCount']\n",
        "    video_num_likes = response['items'][0]['statistics']['likeCount']\n",
        "    video_num_comments = response['items'][0]['statistics']['commentCount']\n",
        "\n",
        "    #---------------------------------------\n",
        "    request2 = youtube.channels().list(\n",
        "    part=[\"snippet\",\"statistics\"],\n",
        "    id=channel_id\n",
        "    )\n",
        "    response2 = request2.execute()\n",
        "\n",
        "    channel_name = response2['items'][0]['snippet']['title']\n",
        "    chanel_description = response2['items'][0]['snippet']['description']\n",
        "    channel_num_subscribers = response2['items'][0]['statistics']['subscriberCount']\n",
        "    channel_num_videos = response2['items'][0]['statistics']['videoCount']\n",
        "\n",
        "    #---------------------------------------\n",
        "    request3 = youtube.commentThreads().list(\n",
        "    part=\"snippet\",\n",
        "    videoId=video_id,\n",
        "    maxResults=10\n",
        "    )\n",
        "\n",
        "    response3 = request3.execute()\n",
        "    video_comments = [item['snippet']['topLevelComment']['snippet']['textOriginal'] for item in response3['items']]\n",
        "\n",
        "    #---------------EXTRACTING TRANSCRIPT----------------\n",
        "    # Initialize a YouTube object\n",
        "    yt = YouTube(video_link)\n",
        "    audio_stream = yt.streams.filter(only_audio=True, file_extension=\"webm\").last()\n",
        "    audio_stream.download(filename='audio_temp.wav')\n",
        "    audio_file =  open('audio_temp.wav', \"rb\")\n",
        "\n",
        "    time.sleep(10)\n",
        "    transcript = transcribe_audio(audio_file)\n",
        "    audio_file.close()\n",
        "    os.remove('audio_temp.wav')\n",
        "\n",
        "\n",
        "    return [video_id, video_title, video_description, channel_name, video_num_views, video_num_likes,\n",
        "            video_num_comments, channel_num_subscribers, transcript]"
      ],
      "metadata": {
        "id": "0nPIYzIC9h-A"
      },
      "execution_count": 6,
      "outputs": []
    },
    {
      "cell_type": "code",
      "source": [
        "url = 'https://www.youtube.com/shorts/YDc_wyAjHME'"
      ],
      "metadata": {
        "id": "DBAzATchE2ib"
      },
      "execution_count": 7,
      "outputs": []
    },
    {
      "cell_type": "code",
      "source": [
        "video_details = get_details(url)"
      ],
      "metadata": {
        "id": "_vhe7NJw_tSf"
      },
      "execution_count": 8,
      "outputs": []
    },
    {
      "cell_type": "code",
      "source": [
        "video_details"
      ],
      "metadata": {
        "colab": {
          "base_uri": "https://localhost:8080/"
        },
        "id": "69zgokYY6YTg",
        "outputId": "90e53297-fac6-4e3e-f9a1-a3d75b132a7f"
      },
      "execution_count": 9,
      "outputs": [
        {
          "output_type": "execute_result",
          "data": {
            "text/plain": [
              "['YDc_wyAjHME',\n",
              " 'Please Don’t invest in stocks ! #sharemarket',\n",
              " '',\n",
              " 'pranjal kamra',\n",
              " '5633373',\n",
              " '331054',\n",
              " '1465',\n",
              " '5640000',\n",
              " 'हाहा, पता है, मैं ही बोल रहा हूँ, स्टोक्स में इन्वेस्ट नहीं करना चाहिए मैं ने जिसने 4 साल में रट लगा रखी है, कि स्टोक्स में इन्वेस्ट करो इसको थोड़ा सबचते हैं, अब देखो कमा लिया, तो 800 रुपे ही कमा लिया, तो 800 रुपे के लिए खुद का इतना टाइम क्यों लगाना, उस केस में मूच्यल फंड बेटर है स्टोक्स कब बेटर है, अगर किसी को इसमें करियर बनाना है, तो जरूर, आपको स्टोक मार्केट खुद करना चाहिए, आप तभी सीखोगे या लाखो करोर रुपे मैनेज करने हैं, तो खुद सीख के अगर इंवेस्ट करो, 2-4 परसंट एक्स्ट्रा आजाएं, तो इस वर्थ है, वो जो टाइम आपने दिया']"
            ]
          },
          "metadata": {},
          "execution_count": 9
        }
      ]
    },
    {
      "cell_type": "code",
      "source": [],
      "metadata": {
        "id": "mBtYRQ2KhD5m"
      },
      "execution_count": 9,
      "outputs": []
    }
  ]
}
