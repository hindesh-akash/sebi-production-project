{
  "nbformat": 4,
  "nbformat_minor": 0,
  "metadata": {
    "colab": {
      "provenance": [],
      "authorship_tag": "ABX9TyPRPaFqJFd3NMzemeRTQPMF",
      "include_colab_link": true
    },
    "kernelspec": {
      "name": "python3",
      "display_name": "Python 3"
    },
    "language_info": {
      "name": "python"
    }
  },
  "cells": [
    {
      "cell_type": "markdown",
      "metadata": {
        "id": "view-in-github",
        "colab_type": "text"
      },
      "source": [
        "<a href=\"https://colab.research.google.com/github/hindesh-akash/sebi-production-project/blob/main/youtube_details_extraction_v2.ipynb\" target=\"_parent\"><img src=\"https://colab.research.google.com/assets/colab-badge.svg\" alt=\"Open In Colab\"/></a>"
      ]
    },
    {
      "cell_type": "code",
      "source": [
        "from IPython.display import clear_output\n",
        "\n",
        "!pip install pytube\n",
        "!pip install openai\n",
        "!pip install google-api-python-client\n",
        "\n",
        "\n",
        "clear_output(wait=False)"
      ],
      "metadata": {
        "id": "QUhE3KfvJ1Wt"
      },
      "execution_count": 10,
      "outputs": []
    },
    {
      "cell_type": "code",
      "source": [
        "\n",
        "import openai\n",
        "from pytube import YouTube\n",
        "import requests\n",
        "from PIL import Image\n",
        "import os\n",
        "import time\n",
        "\n",
        "openai.api_key = \"------OPEN_AI API KEY\"\n"
      ],
      "metadata": {
        "id": "WBfoCWVa9iBd"
      },
      "execution_count": 72,
      "outputs": []
    },
    {
      "cell_type": "code",
      "source": [
        "def transcribe_audio(audio_file):\n",
        "\n",
        "    \"\"\"\n",
        "    Function to transcribe an audio file\n",
        "\n",
        "            Parameters:\n",
        "                    audio_file (bytes): The audio file in byte like format\n",
        "            Returns:\n",
        "                    transcribed_text (string): The transcription of the audio file in text format\n",
        "    \"\"\"\n",
        "    transcript = openai.Audio.transcribe(\"whisper-1\", audio_file)\n",
        "    transcribed_text = transcript['text']\n",
        "    return transcribed_text"
      ],
      "metadata": {
        "id": "h39Nobay6zVj"
      },
      "execution_count": 59,
      "outputs": []
    },
    {
      "cell_type": "code",
      "source": [
        "# def get_text_from_image(image_file):\n",
        "#     #Convert image to text\n",
        "#     # img = Image.open(image_file)\n",
        "#     text = pytesseract.image_to_string(img)\n",
        "\n",
        "#     return text"
      ],
      "metadata": {
        "id": "xw75ACG6D6os"
      },
      "execution_count": 60,
      "outputs": []
    },
    {
      "cell_type": "code",
      "source": [
        "def get_thumbnail(video_link):\n",
        "  \"\"\"\n",
        "    Function to get thumbnail of a YouTube video\n",
        "\n",
        "            Parameters:\n",
        "                    video_link (string): Hyperlink for a YouTube video.\n",
        "            Returns:\n",
        "                    image: The thumbnail image of the video.\n",
        "  \"\"\"\n",
        "  utube = YouTube(video_link)\n",
        "  thumbnail_url = utube.thumbnail_url\n",
        "  thumbnail_response = requests.get(thumbnail_url)\n",
        "\n",
        "  with open('i.png','wb') as f:\n",
        "    f.write(thumbnail_response.content)\n",
        "\n",
        "  image = Image.open('i.png')\n",
        "  os.remove('i.png')\n",
        "\n",
        "  return image"
      ],
      "metadata": {
        "id": "buCzjZ6sDj8c"
      },
      "execution_count": 61,
      "outputs": []
    },
    {
      "cell_type": "code",
      "source": [
        "def get_details(video_link):\n",
        "\n",
        "    \"\"\"\n",
        "    Function to return details about a YouTube video given its hyperlink\n",
        "\n",
        "          Parameters:\n",
        "                  video_link (string): Hyperlink for a YouTube video.\n",
        "                                       Example- https://www.youtube.com/shorts/VIDEO_ID or https://www.youtube.com/watch?v=VIDEO_ID\n",
        "\n",
        "          Returns:\n",
        "                  video_id (string): Unique identifier for the video. Example- YDc_wyAjHME\n",
        "                  video_title (string): Title of the YouTube video\n",
        "                  video_description (string): Description of the video\n",
        "                  channel_name (string): Name of the YouTube channel\n",
        "                  video_num_views (string): Number of views on the video\n",
        "                  video_num_likes (string): Number of likes on the video\n",
        "                  video_num_comments (string): Number of comments on the video\n",
        "                  channel_num_subscribers (string): Number of subsribers for the YouTube channel\n",
        "                  transcript (string): The transcript of the video\n",
        "\n",
        "\n",
        "\n",
        "    \"\"\"\n",
        "\n",
        "    if video_link.find(\"shorts\"):\n",
        "      video_id = video_link.split(\"/\")[-1]\n",
        "    else:\n",
        "      video_id = video_link.split(\"=\")[1]\n",
        "\n",
        "\n",
        "    #---------------------------------------\n",
        "    request = youtube.videos().list(\n",
        "    part=[\"statistics\",\"snippet\"],\n",
        "    id=video_id\n",
        "    )\n",
        "    response = request.execute()\n",
        "\n",
        "    video_title = response['items'][0]['snippet']['title']\n",
        "    video_description = response['items'][0]['snippet']['description']\n",
        "    channel_id = response['items'][0]['snippet']['channelId']\n",
        "    video_num_views = response['items'][0]['statistics']['viewCount']\n",
        "    video_num_likes = response['items'][0]['statistics']['likeCount']\n",
        "    video_num_comments = response['items'][0]['statistics']['commentCount']\n",
        "\n",
        "    #---------------------------------------\n",
        "    request2 = youtube.channels().list(\n",
        "    part=[\"snippet\",\"statistics\"],\n",
        "    id=channel_id\n",
        "    )\n",
        "    response2 = request2.execute()\n",
        "\n",
        "    channel_name = response2['items'][0]['snippet']['title']\n",
        "    chanel_description = response2['items'][0]['snippet']['description']\n",
        "    channel_num_subscribers = response2['items'][0]['statistics']['subscriberCount']\n",
        "    channel_num_videos = response2['items'][0]['statistics']['videoCount']\n",
        "\n",
        "    #---------------------------------------\n",
        "    request3 = youtube.commentThreads().list(\n",
        "    part=\"snippet\",\n",
        "    videoId=video_id,\n",
        "    maxResults=10\n",
        "    )\n",
        "\n",
        "    response3 = request3.execute()\n",
        "    video_comments = [item['snippet']['topLevelComment']['snippet']['textOriginal'] for item in response3['items']]\n",
        "\n",
        "    #---------------EXTRACTING TRANSCRIPT----------------\n",
        "    # Initialize a YouTube object\n",
        "    yt = YouTube(video_link)\n",
        "    audio_stream = yt.streams.filter(only_audio=True, file_extension=\"webm\").last()\n",
        "    audio_stream.download(filename='audio_temp.wav')\n",
        "    audio_file =  open('audio_temp.wav', \"rb\")\n",
        "\n",
        "    time.sleep(10)\n",
        "    transcript = transcribe_audio(audio_file)\n",
        "    audio_file.close()\n",
        "    os.remove('audio_temp.wav')\n",
        "\n",
        "\n",
        "    return [video_id, video_title, video_description, channel_name, video_num_views, video_num_likes,\n",
        "            video_num_comments, channel_num_subscribers, transcript]"
      ],
      "metadata": {
        "id": "0nPIYzIC9h-A"
      },
      "execution_count": 62,
      "outputs": []
    },
    {
      "cell_type": "code",
      "source": [
        "url = 'https://www.youtube.com/shorts/YDc_wyAjHME'"
      ],
      "metadata": {
        "id": "DBAzATchE2ib"
      },
      "execution_count": 63,
      "outputs": []
    },
    {
      "cell_type": "code",
      "source": [
        "# video_details = get_details(url)"
      ],
      "metadata": {
        "id": "_vhe7NJw_tSf"
      },
      "execution_count": 64,
      "outputs": []
    },
    {
      "cell_type": "code",
      "source": [
        "# video_details"
      ],
      "metadata": {
        "id": "69zgokYY6YTg"
      },
      "execution_count": 65,
      "outputs": []
    },
    {
      "cell_type": "code",
      "source": [
        "from IPython.display import clear_output\n",
        "\n",
        "!pip install fastapi\n",
        "!pip install langchain\n",
        "!pip install dotenv\n",
        "!pip install youtube-transcript-api\n",
        "\n",
        "# clear_output()"
      ],
      "metadata": {
        "id": "R_7X5yOC7Vso"
      },
      "execution_count": null,
      "outputs": []
    },
    {
      "cell_type": "code",
      "source": [
        "import json\n",
        "from pytube import extract\n",
        "from fastapi import APIRouter\n",
        "\n",
        "from langchain.chat_models import ChatOpenAI\n",
        "from langchain.schema import HumanMessage, SystemMessage\n",
        "\n",
        "from pytube import YouTube\n",
        "from youtube_transcript_api import YouTubeTranscriptApi\n",
        "# from dotenv import load_dotenv\n",
        "from pydantic import BaseModel\n",
        "# load_dotenv()\n",
        "\n",
        "\n",
        "\n",
        "\n",
        "# class TranscribeRequest(BaseModel):\n",
        "#     video_url: str\n",
        "\n",
        "\n",
        "def get_details_new(video_url):\n",
        "    \"\"\"\n",
        "    Given YouTube Video URL as input, returns the transcription\n",
        "    :param video_url:\n",
        "    :return: <str> transcribed text, author name, title, video_id, description\n",
        "    \"\"\"\n",
        "    youtube = YouTube(video_url)\n",
        "\n",
        "\n",
        "    author = youtube.author\n",
        "\n",
        "    title = youtube.streams[0].title\n",
        "\n",
        "\n",
        "\n",
        "    transcript = \"\"\n",
        "    video_id = extract.video_id(video_url)\n",
        "\n",
        "    try:\n",
        "      srt = YouTubeTranscriptApi.get_transcript(video_id)\n",
        "      for line in srt:\n",
        "        transcript = transcript + \" \" + line[\"text\"]\n",
        "\n",
        "    except:\n",
        "\n",
        "      audio_stream = youtube.streams.filter(only_audio=True, file_extension=\"webm\").last()\n",
        "      audio_stream.download(filename='audio_temp.wav')\n",
        "      audio_file =  open('audio_temp.wav', \"rb\")\n",
        "\n",
        "      time.sleep(10)\n",
        "      transcript = transcribe_audio(audio_file)\n",
        "      audio_file.close()\n",
        "      os.remove('audio_temp.wav')\n",
        "\n",
        "    youtube.streams.first()\n",
        "    description = youtube.description\n",
        "\n",
        "    return [video_id, title, author, description, transcript]\n"
      ],
      "metadata": {
        "id": "g8qhs8Iw6Fyq"
      },
      "execution_count": 81,
      "outputs": []
    },
    {
      "cell_type": "code",
      "source": [
        "example_url={\n",
        "            \"url1\": \"https://www.youtube.com/watch?v=flIG8Lw34Cw\",\n",
        "            \"url2\": \"https://www.youtube.com/watch?v=ynfEvP5kYCk\",\n",
        "            \"url3\": \"https://www.youtube.com/watch?v=28Jay-3S8fg\",\n",
        "            \"url4\": \"https://www.youtube.com/watch?v=BnZU6qYVUl0\",\n",
        "            \"url5\": \"https://www.youtube.com/watch?v=swst4yk-ow8\",\n",
        "            \"url6\": \"https://www.youtube.com/watch?v=_0fwOm5K7Og\"\n",
        "            }"
      ],
      "metadata": {
        "id": "Dp-EufWJ-jhN"
      },
      "execution_count": 83,
      "outputs": []
    },
    {
      "cell_type": "code",
      "source": [
        "i=1\n",
        "for url in example_url.values():\n",
        "  print(f\"******* Example {i} ********\")\n",
        "  print(f\"VIDEO_ID: {get_details_new(url)[0]}\")\n",
        "  print(f\"TITLE: {get_details_new(url)[1]}\")\n",
        "  print(f\"AUTHOR: {get_details_new(url)[2]}\")\n",
        "  print(f\"DESCRIPTION: {get_details_new(url)[3]}\")\n",
        "  print(f\"TRANSCRIPT: {get_details_new(url)[4]}\")\n",
        "  i+=1\n"
      ],
      "metadata": {
        "colab": {
          "base_uri": "https://localhost:8080/"
        },
        "id": "BTmoMeBOC-Vc",
        "outputId": "d6ae437c-da7f-44ea-af37-65a48e907989"
      },
      "execution_count": null,
      "outputs": [
        {
          "output_type": "stream",
          "name": "stdout",
          "text": [
            "******* Example 1 ********\n",
            "VIDEO_ID: flIG8Lw34Cw\n",
            "TITLE: D 30 Strategy | Make Daily 5000 to 10k risk Free\n",
            "AUTHOR: Baap of Chart\n",
            "DESCRIPTION: Today we will learn about the D30  Option Buying Sureshot Strategy which is one of the best option buying strategies for Intraday. it's based on my last 5 Years of experience and observations.\n",
            "\n",
            "Course links: https://baapofchart.com/courses/\n",
            "Charges: only 3300/- for old students and for new Students is 5100/- \n",
            "Payment mode upi: nasirboc@kotak\n",
            "After payment email the payment screenshot to baapofchart@gmail.com, We will add you to the Support Group.\n",
            "\n",
            "Everyone is just following strategy without any proper trading psychology that's why most people are losing money in trading.\n",
            "\n",
            "I have given you the ultimate hack and how to follow that hack to recover all your trading losses.\n",
            "\n",
            "So this video will help you to put the correct stop loss like a professional trader.\n",
            "\n",
            "𝐂𝐨𝐧𝐧𝐞𝐜𝐭 𝐰𝐢𝐭𝐡 𝐮𝐬 𝐨𝐧 Official 𝐒𝐨𝐜𝐢𝐚𝐥 𝐌𝐞𝐝𝐢𝐚.\n",
            "\n",
            "About me: https://bit.ly/2EhpXcr\n",
            "\n",
            "Instagram: https://www.instagram.com/baapofchart\n",
            "\n",
            "My Personal Instagram: https://www.instagram.com/mdnasirboc\n",
            "\n",
            "YouTube: https://www.youtube.com/c/baapofchart \n",
            "\n",
            "My 2nd YouTube Channel: https://www.youtube.com/c/Nasirtalks\n",
            "\n",
            "Twitter : https://twitter.com/baapofchart\n",
            "\n",
            "Facebook: https://www.facebook.com/baapofchart\n",
            "\n",
            "Telegram: https://telegram.me/s/xrokcers5\n",
            "\n",
            "Website : Www.Baapofchart.com \n",
            "\n",
            "Download the Baap of Chart Application to Learn More about the Stock Market.\n",
            "\n",
            "\n",
            "Android Link- https://play.google.com/store/apps/de...\n",
            "\n",
            "\n",
            "IOS Link- https://apps.apple.com/us/app/baap-of...\n",
            "\n",
            "A lot of Learnings Awaiting For You :)\n",
            "#D30_Strategy\n",
            "#stockmarket   #baapofchart\n",
            "TRANSCRIPT: वो हाइ फेंड कैसे आप लोग अमीद करते हैं अच्छे होंगे आप लोग कमेंट में हमेशा करते रहते हैं मेरे बस कैपिटल कम है थैली थाऊजन है फोरी थाऊजन है और मुझे डेली का स्यूर सो थाटी पॉंड चाही है स्यूर सो फॉरी थाटी पॉंड जानर जाती है स्यूर सो फॉरी थाटी पॉंड जानर जानर जाती है प्राफ़िट करने के लिए ज़िन्द प्राफ़िट करते हैं प्राफ़िट करने के लिए ज़िन्द प्राफ़िट करते हैं प्राफ़िट करने के लिए ज़िन्द प्राफ़िट करते हैं प्राफ़िट करने के लिए ज़िन्द प्राफ़िट करते हैं प्राफ़िट करने के लिए ज़िन्द प्राफ़िट करते हैं प्राफ़िट करने के लिए ज़िन्द प्राफ़िट करते हैं प्राफ़िट करने के लिए ज़िन्द प्राफ़िट करते हैं\n",
            "******* Example 1 ********\n"
          ]
        }
      ]
    },
    {
      "cell_type": "code",
      "source": [],
      "metadata": {
        "id": "mqyKw7RqEtep"
      },
      "execution_count": null,
      "outputs": []
    }
  ]
}